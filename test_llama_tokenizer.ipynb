{
 "cells": [
  {
   "cell_type": "code",
   "execution_count": 1,
   "metadata": {},
   "outputs": [
    {
     "name": "stderr",
     "output_type": "stream",
     "text": [
      "Special tokens have been added in the vocabulary, make sure the associated word embeddings are fine-tuned or trained.\n"
     ]
    }
   ],
   "source": [
    "from transformers import AutoTokenizer\n",
    "\n",
    "tokenizer = AutoTokenizer.from_pretrained(\"meta-llama/Meta-Llama-3-8B\", padding_side='left')\n",
    "\n",
    "id1 = tokenizer.convert_tokens_to_ids('\\n')\n",
    "print(id1) # None\n",
    "\n",
    "id2 = tokenizer('\\n')['input_ids'][1]\n",
    "print(id2) # 198\n",
    "\n",
    "newline_tok = tokenizer.convert_ids_to_tokens(198)\n",
    "print(newline_tok) # Ċ\n",
    "\n",
    "id3 = tokenizer('Ċ')['input_ids'][1]\n",
    "print(id3) # 128\n",
    "\n",
    "id4 = tokenizer.convert_tokens_to_ids('Ċ')\n",
    "print(id4) # 198\n",
    "\n"
   ]
  },
  {
   "cell_type": "code",
   "execution_count": 13,
   "metadata": {},
   "outputs": [
    {
     "name": "stdout",
     "output_type": "stream",
     "text": [
      "None\n",
      "198\n",
      "Ċ\n",
      "128\n",
      "198\n"
     ]
    }
   ],
   "source": []
  }
 ],
 "metadata": {
  "kernelspec": {
   "display_name": "base",
   "language": "python",
   "name": "python3"
  },
  "language_info": {
   "codemirror_mode": {
    "name": "ipython",
    "version": 3
   },
   "file_extension": ".py",
   "mimetype": "text/x-python",
   "name": "python",
   "nbconvert_exporter": "python",
   "pygments_lexer": "ipython3",
   "version": "3.11.7"
  }
 },
 "nbformat": 4,
 "nbformat_minor": 2
}
